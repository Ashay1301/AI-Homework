{
  "nbformat": 4,
  "nbformat_minor": 0,
  "metadata": {
    "colab": {
      "name": "Cifar100_dataset.ipynb",
      "provenance": []
    },
    "kernelspec": {
      "name": "python3",
      "display_name": "Python 3"
    },
    "accelerator": "GPU"
  },
  "cells": [
    {
      "cell_type": "code",
      "metadata": {
        "id": "jcPVkfd3eArF"
      },
      "source": [
        "import tensorflow as tf\n",
        "from tensorflow.keras import datasets, layers, models\n",
        "import matplotlib.pyplot as plt"
      ],
      "execution_count": 2,
      "outputs": []
    },
    {
      "cell_type": "markdown",
      "metadata": {
        "id": "YNjLMwg_ebz2"
      },
      "source": [
        "Loading Data"
      ]
    },
    {
      "cell_type": "code",
      "metadata": {
        "id": "zmOOzpiteZuM",
        "outputId": "84316feb-1c75-441d-ec3b-0f119e4b2b8b",
        "colab": {
          "base_uri": "https://localhost:8080/",
          "height": 52
        }
      },
      "source": [
        "(train_images, train_labels),(test_images,test_labels) = datasets.cifar100.load_data()\n",
        "\n",
        "#Normalize pixel values b/w 0 and 1\n",
        "train_images, test_images = train_images/255.0 , test_images/255.0"
      ],
      "execution_count": 3,
      "outputs": [
        {
          "output_type": "stream",
          "text": [
            "Downloading data from https://www.cs.toronto.edu/~kriz/cifar-100-python.tar.gz\n",
            "169009152/169001437 [==============================] - 4s 0us/step\n"
          ],
          "name": "stdout"
        }
      ]
    },
    {
      "cell_type": "markdown",
      "metadata": {
        "id": "EscKfkgQjGxg"
      },
      "source": [
        "CNN "
      ]
    },
    {
      "cell_type": "code",
      "metadata": {
        "id": "TawCiEaNjF9f"
      },
      "source": [
        "#creatiing a convolution base\n",
        "\n",
        "model = models.Sequential()   # used to maintain the sequence of layers\n",
        "model.add(layers.Conv2D(32, (3,3), activation= 'relu', input_shape=(32,32,3)))\n",
        "model.add(layers.MaxPooling2D((2,2)))\n",
        "\n",
        "model.add(layers.Conv2D(128, (3,3), activation= 'relu',))\n",
        "model.add(layers.MaxPooling2D((2,2)))\n",
        "\n",
        "model.add(layers.Conv2D(256, (3,3), activation= 'relu',))\n"
      ],
      "execution_count": 4,
      "outputs": []
    },
    {
      "cell_type": "code",
      "metadata": {
        "id": "TyCQHEH_fQla",
        "outputId": "a7a5fd86-2819-413e-d228-5685476ef3ff",
        "colab": {
          "base_uri": "https://localhost:8080/",
          "height": 334
        }
      },
      "source": [
        "model.summary()"
      ],
      "execution_count": 5,
      "outputs": [
        {
          "output_type": "stream",
          "text": [
            "Model: \"sequential\"\n",
            "_________________________________________________________________\n",
            "Layer (type)                 Output Shape              Param #   \n",
            "=================================================================\n",
            "conv2d (Conv2D)              (None, 30, 30, 32)        896       \n",
            "_________________________________________________________________\n",
            "max_pooling2d (MaxPooling2D) (None, 15, 15, 32)        0         \n",
            "_________________________________________________________________\n",
            "conv2d_1 (Conv2D)            (None, 13, 13, 128)       36992     \n",
            "_________________________________________________________________\n",
            "max_pooling2d_1 (MaxPooling2 (None, 6, 6, 128)         0         \n",
            "_________________________________________________________________\n",
            "conv2d_2 (Conv2D)            (None, 4, 4, 256)         295168    \n",
            "=================================================================\n",
            "Total params: 333,056\n",
            "Trainable params: 333,056\n",
            "Non-trainable params: 0\n",
            "_________________________________________________________________\n"
          ],
          "name": "stdout"
        }
      ]
    },
    {
      "cell_type": "code",
      "metadata": {
        "id": "Q0qnP3icji10"
      },
      "source": [
        "# Flatten the output layer\n",
        "\n",
        "model.add(layers.Flatten())\n",
        "model.add(layers.Dense(256, activation='relu'))\n",
        "model.add(layers.Dense(100, activation='softmax'))"
      ],
      "execution_count": 6,
      "outputs": []
    },
    {
      "cell_type": "code",
      "metadata": {
        "id": "Fy1c7GHKkVQq",
        "outputId": "c4c0ab26-aea2-4b64-ac9b-9fae3cdca1ad",
        "colab": {
          "base_uri": "https://localhost:8080/",
          "height": 439
        }
      },
      "source": [
        "model.summary()"
      ],
      "execution_count": 7,
      "outputs": [
        {
          "output_type": "stream",
          "text": [
            "Model: \"sequential\"\n",
            "_________________________________________________________________\n",
            "Layer (type)                 Output Shape              Param #   \n",
            "=================================================================\n",
            "conv2d (Conv2D)              (None, 30, 30, 32)        896       \n",
            "_________________________________________________________________\n",
            "max_pooling2d (MaxPooling2D) (None, 15, 15, 32)        0         \n",
            "_________________________________________________________________\n",
            "conv2d_1 (Conv2D)            (None, 13, 13, 128)       36992     \n",
            "_________________________________________________________________\n",
            "max_pooling2d_1 (MaxPooling2 (None, 6, 6, 128)         0         \n",
            "_________________________________________________________________\n",
            "conv2d_2 (Conv2D)            (None, 4, 4, 256)         295168    \n",
            "_________________________________________________________________\n",
            "flatten (Flatten)            (None, 4096)              0         \n",
            "_________________________________________________________________\n",
            "dense (Dense)                (None, 256)               1048832   \n",
            "_________________________________________________________________\n",
            "dense_1 (Dense)              (None, 100)               25700     \n",
            "=================================================================\n",
            "Total params: 1,407,588\n",
            "Trainable params: 1,407,588\n",
            "Non-trainable params: 0\n",
            "_________________________________________________________________\n"
          ],
          "name": "stdout"
        }
      ]
    },
    {
      "cell_type": "code",
      "metadata": {
        "id": "0wCxg4TCkcDz",
        "outputId": "3fd60da6-7445-4193-9ec8-ced1c3fbc5f9",
        "colab": {
          "base_uri": "https://localhost:8080/",
          "height": 369
        }
      },
      "source": [
        "# Compile the model\n",
        "#model.compile(optimizer='sgd', loss='sparse_categorical_crossentropy', metrics=['accuracy'])\n",
        "\n",
        "model.compile(optimizer='adam', loss='sparse_categorical_crossentropy', metrics=['accuracy'])\n",
        "\n",
        "history = model.fit(train_images, train_labels, epochs = 10, validation_data=(test_images,test_labels))"
      ],
      "execution_count": 8,
      "outputs": [
        {
          "output_type": "stream",
          "text": [
            "Epoch 1/10\n",
            "1563/1563 [==============================] - 7s 4ms/step - loss: 3.7869 - accuracy: 0.1208 - val_loss: 3.2146 - val_accuracy: 0.2189\n",
            "Epoch 2/10\n",
            "1563/1563 [==============================] - 6s 4ms/step - loss: 2.9894 - accuracy: 0.2625 - val_loss: 2.8039 - val_accuracy: 0.3030\n",
            "Epoch 3/10\n",
            "1563/1563 [==============================] - 6s 4ms/step - loss: 2.6079 - accuracy: 0.3359 - val_loss: 2.6450 - val_accuracy: 0.3370\n",
            "Epoch 4/10\n",
            "1563/1563 [==============================] - 6s 4ms/step - loss: 2.3372 - accuracy: 0.3927 - val_loss: 2.5414 - val_accuracy: 0.3602\n",
            "Epoch 5/10\n",
            "1563/1563 [==============================] - 6s 4ms/step - loss: 2.1335 - accuracy: 0.4354 - val_loss: 2.4496 - val_accuracy: 0.3848\n",
            "Epoch 6/10\n",
            "1563/1563 [==============================] - 6s 4ms/step - loss: 1.9454 - accuracy: 0.4782 - val_loss: 2.4875 - val_accuracy: 0.3856\n",
            "Epoch 7/10\n",
            "1563/1563 [==============================] - 6s 4ms/step - loss: 1.7690 - accuracy: 0.5193 - val_loss: 2.5062 - val_accuracy: 0.3813\n",
            "Epoch 8/10\n",
            "1563/1563 [==============================] - 6s 4ms/step - loss: 1.6038 - accuracy: 0.5567 - val_loss: 2.5044 - val_accuracy: 0.3962\n",
            "Epoch 9/10\n",
            "1563/1563 [==============================] - 7s 4ms/step - loss: 1.4496 - accuracy: 0.5932 - val_loss: 2.6834 - val_accuracy: 0.3849\n",
            "Epoch 10/10\n",
            "1563/1563 [==============================] - 7s 4ms/step - loss: 1.2968 - accuracy: 0.6291 - val_loss: 2.7650 - val_accuracy: 0.3826\n"
          ],
          "name": "stdout"
        }
      ]
    },
    {
      "cell_type": "code",
      "metadata": {
        "id": "h_JkYdhKkz8I",
        "outputId": "86d6a575-8e45-4ba1-ef60-fcff8e1e02ff",
        "colab": {
          "base_uri": "https://localhost:8080/",
          "height": 301
        }
      },
      "source": [
        "plt.plot(history.history['accuracy'], label= 'accuracy')\n",
        "plt.plot(history.history['val_accuracy'], label= 'val_accuracy')\n",
        "plt.xlabel('Epoch')\n",
        "plt.ylabel('Accuracy')\n",
        "plt.ylim([0,1])\n",
        "plt.legend(loc = 'lower right')\n",
        "\n",
        "test_loss , test_acc = model.evaluate(test_images,test_labels)"
      ],
      "execution_count": 10,
      "outputs": [
        {
          "output_type": "stream",
          "text": [
            "313/313 [==============================] - 1s 3ms/step - loss: 2.7650 - accuracy: 0.3826\n"
          ],
          "name": "stdout"
        },
        {
          "output_type": "display_data",
          "data": {
            "image/png": "[encoded data removed]",
            "text/plain": [
              "<Figure size 432x288 with 1 Axes>"
            ]
          },
          "metadata": {
            "tags": [],
            "needs_background": "light"
          }
        }
      ]
    },
    {
      "cell_type": "code",
      "metadata": {
        "id": "Mij8G3cUlI2R",
        "outputId": "a13391cf-4d33-4d48-fa6d-140b0427532d",
        "colab": {
          "base_uri": "https://localhost:8080/",
          "height": 34
        }
      },
      "source": [
        "print(test_acc)"
      ],
      "execution_count": 11,
      "outputs": [
        {
          "output_type": "stream",
          "text": [
            "0.38260000944137573\n"
          ],
          "name": "stdout"
        }
      ]
    },
    {
      "cell_type": "markdown",
      "metadata": {
        "id": "AXK4m_G2lMsW"
      },
      "source": [
        "FEED FORWARD"
      ]
    },
    {
      "cell_type": "code",
      "metadata": {
        "id": "VCZMHpgMlPHo"
      },
      "source": [
        "model = models.Sequential()\n",
        "model.add(layers.Flatten(input_shape = (32,32,3)))\n",
        "model.add(layers.Dense(2048, activation = 'relu'))\n",
        "model.add(layers.Dense(1024, activation = 'relu'))\n",
        "model.add(layers.Dense(512, activation = 'relu'))\n",
        "model.add(layers.Dense(256, activation = 'relu'))\n",
        "model.add(layers.Dense(128, activation = 'relu'))\n",
        "model.add(layers.Dense(100, activation = 'softmax'))"
      ],
      "execution_count": 21,
      "outputs": []
    },
    {
      "cell_type": "code",
      "metadata": {
        "id": "2QBBDILrlXmg",
        "outputId": "de8d0d47-f7a3-4398-edb6-37e41d60d832",
        "colab": {
          "base_uri": "https://localhost:8080/",
          "height": 404
        }
      },
      "source": [
        "model.summary()"
      ],
      "execution_count": 22,
      "outputs": [
        {
          "output_type": "stream",
          "text": [
            "Model: \"sequential_4\"\n",
            "_________________________________________________________________\n",
            "Layer (type)                 Output Shape              Param #   \n",
            "=================================================================\n",
            "flatten_4 (Flatten)          (None, 3072)              0         \n",
            "_________________________________________________________________\n",
            "dense_8 (Dense)              (None, 2048)              6293504   \n",
            "_________________________________________________________________\n",
            "dense_9 (Dense)              (None, 1024)              2098176   \n",
            "_________________________________________________________________\n",
            "dense_10 (Dense)             (None, 512)               524800    \n",
            "_________________________________________________________________\n",
            "dense_11 (Dense)             (None, 256)               131328    \n",
            "_________________________________________________________________\n",
            "dense_12 (Dense)             (None, 128)               32896     \n",
            "_________________________________________________________________\n",
            "dense_13 (Dense)             (None, 100)               12900     \n",
            "=================================================================\n",
            "Total params: 9,093,604\n",
            "Trainable params: 9,093,604\n",
            "Non-trainable params: 0\n",
            "_________________________________________________________________\n"
          ],
          "name": "stdout"
        }
      ]
    },
    {
      "cell_type": "code",
      "metadata": {
        "id": "pMqTfTcZleoY",
        "outputId": "a0c2e2f8-1387-4969-df8d-194b7e91711c",
        "colab": {
          "base_uri": "https://localhost:8080/",
          "height": 1000
        }
      },
      "source": [
        "model.compile(optimizer='adam', loss='sparse_categorical_crossentropy', metrics=['accuracy'])\n",
        "\n",
        "history = model.fit(train_images, train_labels, epochs = 100, validation_data=(test_images,test_labels))"
      ],
      "execution_count": 25,
      "outputs": [
        {
          "output_type": "stream",
          "text": [
            "Epoch 1/100\n",
            "1563/1563 [==============================] - 7s 5ms/step - loss: 3.1938 - accuracy: 0.2174 - val_loss: 3.4294 - val_accuracy: 0.1922\n",
            "Epoch 2/100\n",
            "1563/1563 [==============================] - 7s 4ms/step - loss: 3.1591 - accuracy: 0.2216 - val_loss: 3.4281 - val_accuracy: 0.1931\n",
            "Epoch 3/100\n",
            "1563/1563 [==============================] - 7s 4ms/step - loss: 3.1282 - accuracy: 0.2271 - val_loss: 3.4056 - val_accuracy: 0.1943\n",
            "Epoch 4/100\n",
            "1563/1563 [==============================] - 7s 4ms/step - loss: 3.0919 - accuracy: 0.2338 - val_loss: 3.4438 - val_accuracy: 0.1949\n",
            "Epoch 5/100\n",
            "1563/1563 [==============================] - 7s 4ms/step - loss: 3.0585 - accuracy: 0.2408 - val_loss: 3.3950 - val_accuracy: 0.2019\n",
            "Epoch 6/100\n",
            "1563/1563 [==============================] - 7s 5ms/step - loss: 3.0260 - accuracy: 0.2455 - val_loss: 3.4194 - val_accuracy: 0.2015\n",
            "Epoch 7/100\n",
            "1563/1563 [==============================] - 7s 4ms/step - loss: 2.9963 - accuracy: 0.2495 - val_loss: 3.3982 - val_accuracy: 0.2041\n",
            "Epoch 8/100\n",
            "1563/1563 [==============================] - 7s 4ms/step - loss: 2.9701 - accuracy: 0.2561 - val_loss: 3.4636 - val_accuracy: 0.2027\n",
            "Epoch 9/100\n",
            "1563/1563 [==============================] - 7s 4ms/step - loss: 2.9457 - accuracy: 0.2609 - val_loss: 3.4484 - val_accuracy: 0.2024\n",
            "Epoch 10/100\n",
            "1563/1563 [==============================] - 7s 5ms/step - loss: 2.9078 - accuracy: 0.2683 - val_loss: 3.4292 - val_accuracy: 0.2061\n",
            "Epoch 11/100\n",
            "1563/1563 [==============================] - 7s 5ms/step - loss: 2.8748 - accuracy: 0.2759 - val_loss: 3.5415 - val_accuracy: 0.1993\n",
            "Epoch 12/100\n",
            "1563/1563 [==============================] - 7s 4ms/step - loss: 2.8555 - accuracy: 0.2761 - val_loss: 3.5938 - val_accuracy: 0.1990\n",
            "Epoch 13/100\n",
            "1563/1563 [==============================] - 7s 4ms/step - loss: 2.8272 - accuracy: 0.2852 - val_loss: 3.5421 - val_accuracy: 0.2070\n",
            "Epoch 14/100\n",
            "1563/1563 [==============================] - 7s 5ms/step - loss: 2.7948 - accuracy: 0.2907 - val_loss: 3.5555 - val_accuracy: 0.1963\n",
            "Epoch 15/100\n",
            "1563/1563 [==============================] - 7s 5ms/step - loss: 2.7842 - accuracy: 0.2922 - val_loss: 3.6130 - val_accuracy: 0.1987\n",
            "Epoch 16/100\n",
            "1563/1563 [==============================] - 7s 4ms/step - loss: 2.7371 - accuracy: 0.2986 - val_loss: 3.6614 - val_accuracy: 0.1997\n",
            "Epoch 17/100\n",
            "1563/1563 [==============================] - 7s 5ms/step - loss: 2.7166 - accuracy: 0.3055 - val_loss: 3.6459 - val_accuracy: 0.2001\n",
            "Epoch 18/100\n",
            "1563/1563 [==============================] - 7s 4ms/step - loss: 2.7017 - accuracy: 0.3079 - val_loss: 3.6450 - val_accuracy: 0.2031\n",
            "Epoch 19/100\n",
            "1563/1563 [==============================] - 7s 4ms/step - loss: 2.6719 - accuracy: 0.3130 - val_loss: 3.7102 - val_accuracy: 0.1983\n",
            "Epoch 20/100\n",
            "1563/1563 [==============================] - 7s 4ms/step - loss: 2.6510 - accuracy: 0.3199 - val_loss: 3.7628 - val_accuracy: 0.1958\n",
            "Epoch 21/100\n",
            "1563/1563 [==============================] - 7s 5ms/step - loss: 2.6172 - accuracy: 0.3268 - val_loss: 3.7204 - val_accuracy: 0.1999\n",
            "Epoch 22/100\n",
            "1563/1563 [==============================] - 7s 5ms/step - loss: 2.6065 - accuracy: 0.3289 - val_loss: 3.8126 - val_accuracy: 0.1988\n",
            "Epoch 23/100\n",
            "1563/1563 [==============================] - 7s 4ms/step - loss: 2.5921 - accuracy: 0.3325 - val_loss: 3.8858 - val_accuracy: 0.1971\n",
            "Epoch 24/100\n",
            "1563/1563 [==============================] - 7s 4ms/step - loss: 2.5685 - accuracy: 0.3364 - val_loss: 3.8789 - val_accuracy: 0.1974\n",
            "Epoch 25/100\n",
            "1563/1563 [==============================] - 7s 4ms/step - loss: 2.5500 - accuracy: 0.3406 - val_loss: 3.8583 - val_accuracy: 0.1975\n",
            "Epoch 26/100\n",
            "1563/1563 [==============================] - 7s 4ms/step - loss: 2.5298 - accuracy: 0.3448 - val_loss: 3.9001 - val_accuracy: 0.1930\n",
            "Epoch 27/100\n",
            "1563/1563 [==============================] - 7s 4ms/step - loss: 2.5079 - accuracy: 0.3503 - val_loss: 3.9732 - val_accuracy: 0.1915\n",
            "Epoch 28/100\n",
            "1563/1563 [==============================] - 7s 4ms/step - loss: 2.4839 - accuracy: 0.3558 - val_loss: 3.9424 - val_accuracy: 0.2027\n",
            "Epoch 29/100\n",
            "1563/1563 [==============================] - 7s 4ms/step - loss: 2.4714 - accuracy: 0.3570 - val_loss: 3.9451 - val_accuracy: 0.1881\n",
            "Epoch 30/100\n",
            "1563/1563 [==============================] - 7s 4ms/step - loss: 2.4515 - accuracy: 0.3635 - val_loss: 4.1039 - val_accuracy: 0.1953\n",
            "Epoch 31/100\n",
            "1563/1563 [==============================] - 7s 4ms/step - loss: 2.4407 - accuracy: 0.3675 - val_loss: 4.1412 - val_accuracy: 0.1932\n",
            "Epoch 32/100\n",
            "1563/1563 [==============================] - 7s 4ms/step - loss: 2.4166 - accuracy: 0.3736 - val_loss: 4.1417 - val_accuracy: 0.1930\n",
            "Epoch 33/100\n",
            "1563/1563 [==============================] - 7s 4ms/step - loss: 2.4070 - accuracy: 0.3720 - val_loss: 4.0605 - val_accuracy: 0.1948\n",
            "Epoch 34/100\n",
            "1563/1563 [==============================] - 7s 4ms/step - loss: 2.3845 - accuracy: 0.3778 - val_loss: 4.2839 - val_accuracy: 0.1840\n",
            "Epoch 35/100\n",
            "1563/1563 [==============================] - 7s 4ms/step - loss: 2.3726 - accuracy: 0.3808 - val_loss: 4.2453 - val_accuracy: 0.1989\n",
            "Epoch 36/100\n",
            "1563/1563 [==============================] - 7s 4ms/step - loss: 2.3657 - accuracy: 0.3834 - val_loss: 4.2935 - val_accuracy: 0.1908\n",
            "Epoch 37/100\n",
            "1563/1563 [==============================] - 7s 4ms/step - loss: 2.3444 - accuracy: 0.3843 - val_loss: 4.3179 - val_accuracy: 0.1922\n",
            "Epoch 38/100\n",
            "1563/1563 [==============================] - 7s 4ms/step - loss: 2.3256 - accuracy: 0.3912 - val_loss: 4.4150 - val_accuracy: 0.1940\n",
            "Epoch 39/100\n",
            "1563/1563 [==============================] - 7s 4ms/step - loss: 2.3175 - accuracy: 0.3930 - val_loss: 4.3289 - val_accuracy: 0.1872\n",
            "Epoch 40/100\n",
            "1563/1563 [==============================] - 7s 4ms/step - loss: 2.3068 - accuracy: 0.3959 - val_loss: 4.5432 - val_accuracy: 0.1882\n",
            "Epoch 41/100\n",
            "1563/1563 [==============================] - 7s 4ms/step - loss: 2.2902 - accuracy: 0.3986 - val_loss: 4.6147 - val_accuracy: 0.1858\n",
            "Epoch 42/100\n",
            "1563/1563 [==============================] - 7s 4ms/step - loss: 2.3011 - accuracy: 0.3971 - val_loss: 4.5031 - val_accuracy: 0.1936\n",
            "Epoch 43/100\n",
            "1563/1563 [==============================] - 7s 4ms/step - loss: 2.2727 - accuracy: 0.4023 - val_loss: 4.4340 - val_accuracy: 0.1910\n",
            "Epoch 44/100\n",
            "1563/1563 [==============================] - 7s 4ms/step - loss: 2.2538 - accuracy: 0.4077 - val_loss: 4.8286 - val_accuracy: 0.1757\n",
            "Epoch 45/100\n",
            "1563/1563 [==============================] - 7s 4ms/step - loss: 2.2419 - accuracy: 0.4098 - val_loss: 4.7043 - val_accuracy: 0.1907\n",
            "Epoch 46/100\n",
            "1563/1563 [==============================] - 7s 4ms/step - loss: 2.2360 - accuracy: 0.4108 - val_loss: 4.6126 - val_accuracy: 0.1913\n",
            "Epoch 47/100\n",
            "1563/1563 [==============================] - 7s 5ms/step - loss: 2.2299 - accuracy: 0.4144 - val_loss: 4.5829 - val_accuracy: 0.1900\n",
            "Epoch 48/100\n",
            "1563/1563 [==============================] - 7s 5ms/step - loss: 2.2266 - accuracy: 0.4136 - val_loss: 4.6665 - val_accuracy: 0.1835\n",
            "Epoch 49/100\n",
            "1563/1563 [==============================] - 7s 5ms/step - loss: 2.1949 - accuracy: 0.4235 - val_loss: 4.7756 - val_accuracy: 0.1864\n",
            "Epoch 50/100\n",
            "1563/1563 [==============================] - 7s 5ms/step - loss: 2.2189 - accuracy: 0.4191 - val_loss: 4.7622 - val_accuracy: 0.1935\n",
            "Epoch 51/100\n",
            "1563/1563 [==============================] - 7s 5ms/step - loss: 2.1940 - accuracy: 0.4207 - val_loss: 4.9117 - val_accuracy: 0.1839\n",
            "Epoch 52/100\n",
            "1563/1563 [==============================] - 7s 5ms/step - loss: 2.1856 - accuracy: 0.4231 - val_loss: 4.8987 - val_accuracy: 0.1801\n",
            "Epoch 53/100\n",
            "1563/1563 [==============================] - 7s 5ms/step - loss: 2.1893 - accuracy: 0.4217 - val_loss: 4.7660 - val_accuracy: 0.1852\n",
            "Epoch 54/100\n",
            "1563/1563 [==============================] - 7s 5ms/step - loss: 2.1572 - accuracy: 0.4322 - val_loss: 5.0482 - val_accuracy: 0.1862\n",
            "Epoch 55/100\n",
            "1563/1563 [==============================] - 7s 5ms/step - loss: 2.1490 - accuracy: 0.4333 - val_loss: 4.9556 - val_accuracy: 0.1821\n",
            "Epoch 56/100\n",
            "1563/1563 [==============================] - 7s 5ms/step - loss: 2.1416 - accuracy: 0.4383 - val_loss: 5.0181 - val_accuracy: 0.1887\n",
            "Epoch 57/100\n",
            "1563/1563 [==============================] - 7s 5ms/step - loss: 2.1478 - accuracy: 0.4325 - val_loss: 5.0084 - val_accuracy: 0.1876\n",
            "Epoch 58/100\n",
            "1563/1563 [==============================] - 7s 4ms/step - loss: 2.1341 - accuracy: 0.4365 - val_loss: 5.0698 - val_accuracy: 0.1828\n",
            "Epoch 59/100\n",
            "1563/1563 [==============================] - 7s 5ms/step - loss: 2.1208 - accuracy: 0.4410 - val_loss: 4.9662 - val_accuracy: 0.1832\n",
            "Epoch 60/100\n",
            "1563/1563 [==============================] - 7s 5ms/step - loss: 2.0826 - accuracy: 0.4486 - val_loss: 5.1182 - val_accuracy: 0.1853\n",
            "Epoch 61/100\n",
            "1563/1563 [==============================] - 7s 5ms/step - loss: 2.1023 - accuracy: 0.4436 - val_loss: 4.9840 - val_accuracy: 0.1856\n",
            "Epoch 62/100\n",
            "1563/1563 [==============================] - 7s 5ms/step - loss: 2.1002 - accuracy: 0.4462 - val_loss: 5.0518 - val_accuracy: 0.1870\n",
            "Epoch 63/100\n",
            "1563/1563 [==============================] - 7s 5ms/step - loss: 2.1097 - accuracy: 0.4443 - val_loss: 5.1177 - val_accuracy: 0.1808\n",
            "Epoch 64/100\n",
            "1563/1563 [==============================] - 7s 5ms/step - loss: 2.1072 - accuracy: 0.4433 - val_loss: 5.0606 - val_accuracy: 0.1849\n",
            "Epoch 65/100\n",
            "1563/1563 [==============================] - 7s 5ms/step - loss: 2.0781 - accuracy: 0.4506 - val_loss: 5.2853 - val_accuracy: 0.1838\n",
            "Epoch 66/100\n",
            "1563/1563 [==============================] - 8s 5ms/step - loss: 2.0671 - accuracy: 0.4555 - val_loss: 5.3054 - val_accuracy: 0.1811\n",
            "Epoch 67/100\n",
            "1563/1563 [==============================] - 7s 5ms/step - loss: 2.0772 - accuracy: 0.4513 - val_loss: 5.1182 - val_accuracy: 0.1856\n",
            "Epoch 68/100\n",
            "1563/1563 [==============================] - 7s 5ms/step - loss: 2.0644 - accuracy: 0.4552 - val_loss: 5.3232 - val_accuracy: 0.1804\n",
            "Epoch 69/100\n",
            "1563/1563 [==============================] - 7s 5ms/step - loss: 2.0606 - accuracy: 0.4583 - val_loss: 5.5205 - val_accuracy: 0.1775\n",
            "Epoch 70/100\n",
            "1563/1563 [==============================] - 7s 5ms/step - loss: 2.0594 - accuracy: 0.4540 - val_loss: 5.2123 - val_accuracy: 0.1805\n",
            "Epoch 71/100\n",
            "1563/1563 [==============================] - 7s 4ms/step - loss: 2.0642 - accuracy: 0.4556 - val_loss: 5.5989 - val_accuracy: 0.1832\n",
            "Epoch 72/100\n",
            "1563/1563 [==============================] - 7s 5ms/step - loss: 2.0185 - accuracy: 0.4632 - val_loss: 5.4930 - val_accuracy: 0.1853\n",
            "Epoch 73/100\n",
            "1563/1563 [==============================] - 7s 5ms/step - loss: 2.0215 - accuracy: 0.4643 - val_loss: 5.5087 - val_accuracy: 0.1823\n",
            "Epoch 74/100\n",
            "1563/1563 [==============================] - 7s 4ms/step - loss: 2.0454 - accuracy: 0.4618 - val_loss: 5.2440 - val_accuracy: 0.1777\n",
            "Epoch 75/100\n",
            "1563/1563 [==============================] - 7s 4ms/step - loss: 2.0391 - accuracy: 0.4619 - val_loss: 5.1776 - val_accuracy: 0.1747\n",
            "Epoch 76/100\n",
            "1563/1563 [==============================] - 7s 4ms/step - loss: 2.0180 - accuracy: 0.4682 - val_loss: 5.5441 - val_accuracy: 0.1804\n",
            "Epoch 77/100\n",
            "1563/1563 [==============================] - 7s 4ms/step - loss: 2.0172 - accuracy: 0.4679 - val_loss: 5.4941 - val_accuracy: 0.1769\n",
            "Epoch 78/100\n",
            "1563/1563 [==============================] - 7s 4ms/step - loss: 1.9813 - accuracy: 0.4763 - val_loss: 5.5907 - val_accuracy: 0.1780\n",
            "Epoch 79/100\n",
            "1563/1563 [==============================] - 7s 4ms/step - loss: 2.0133 - accuracy: 0.4678 - val_loss: 5.5686 - val_accuracy: 0.1822\n",
            "Epoch 80/100\n",
            "1563/1563 [==============================] - 7s 4ms/step - loss: 2.0077 - accuracy: 0.4709 - val_loss: 5.8293 - val_accuracy: 0.1790\n",
            "Epoch 81/100\n",
            "1563/1563 [==============================] - 7s 4ms/step - loss: 1.9901 - accuracy: 0.4731 - val_loss: 5.3126 - val_accuracy: 0.1787\n",
            "Epoch 82/100\n",
            "1563/1563 [==============================] - 7s 4ms/step - loss: 2.0011 - accuracy: 0.4725 - val_loss: 5.7253 - val_accuracy: 0.1818\n",
            "Epoch 83/100\n",
            "1563/1563 [==============================] - 7s 4ms/step - loss: 2.0153 - accuracy: 0.4686 - val_loss: 5.8124 - val_accuracy: 0.1670\n",
            "Epoch 84/100\n",
            "1563/1563 [==============================] - 7s 4ms/step - loss: 1.9808 - accuracy: 0.4778 - val_loss: 5.5206 - val_accuracy: 0.1809\n",
            "Epoch 85/100\n",
            "1563/1563 [==============================] - 7s 4ms/step - loss: 1.9562 - accuracy: 0.4808 - val_loss: 5.5548 - val_accuracy: 0.1785\n",
            "Epoch 86/100\n",
            "1563/1563 [==============================] - 7s 4ms/step - loss: 1.9482 - accuracy: 0.4831 - val_loss: 5.6705 - val_accuracy: 0.1734\n",
            "Epoch 87/100\n",
            "1563/1563 [==============================] - 7s 4ms/step - loss: 1.9849 - accuracy: 0.4780 - val_loss: 5.6083 - val_accuracy: 0.1853\n",
            "Epoch 88/100\n",
            "1563/1563 [==============================] - 7s 4ms/step - loss: 1.9335 - accuracy: 0.4872 - val_loss: 5.7232 - val_accuracy: 0.1797\n",
            "Epoch 89/100\n",
            "1563/1563 [==============================] - 7s 4ms/step - loss: 1.9876 - accuracy: 0.4774 - val_loss: 5.7184 - val_accuracy: 0.1813\n",
            "Epoch 90/100\n",
            "1563/1563 [==============================] - 7s 4ms/step - loss: 1.9419 - accuracy: 0.4859 - val_loss: 6.0442 - val_accuracy: 0.1759\n",
            "Epoch 91/100\n",
            "1563/1563 [==============================] - 7s 4ms/step - loss: 1.9420 - accuracy: 0.4881 - val_loss: 6.1489 - val_accuracy: 0.1745\n",
            "Epoch 92/100\n",
            "1563/1563 [==============================] - 7s 4ms/step - loss: 1.9451 - accuracy: 0.4841 - val_loss: 5.9695 - val_accuracy: 0.1784\n",
            "Epoch 93/100\n",
            "1563/1563 [==============================] - 7s 4ms/step - loss: 1.9442 - accuracy: 0.4830 - val_loss: 6.0584 - val_accuracy: 0.1788\n",
            "Epoch 94/100\n",
            "1563/1563 [==============================] - 7s 4ms/step - loss: 1.9183 - accuracy: 0.4937 - val_loss: 6.0971 - val_accuracy: 0.1806\n",
            "Epoch 95/100\n",
            "1563/1563 [==============================] - 7s 4ms/step - loss: 1.9548 - accuracy: 0.4833 - val_loss: 5.9099 - val_accuracy: 0.1743\n",
            "Epoch 96/100\n",
            "1563/1563 [==============================] - 7s 4ms/step - loss: 1.9115 - accuracy: 0.4930 - val_loss: 6.1408 - val_accuracy: 0.1798\n",
            "Epoch 97/100\n",
            "1563/1563 [==============================] - 7s 4ms/step - loss: 1.9540 - accuracy: 0.4847 - val_loss: 6.1513 - val_accuracy: 0.1768\n",
            "Epoch 98/100\n",
            "1563/1563 [==============================] - 7s 4ms/step - loss: 1.9597 - accuracy: 0.4830 - val_loss: 6.1684 - val_accuracy: 0.1744\n",
            "Epoch 99/100\n",
            "1563/1563 [==============================] - 7s 4ms/step - loss: 1.9128 - accuracy: 0.4948 - val_loss: 6.2744 - val_accuracy: 0.1766\n",
            "Epoch 100/100\n",
            "1563/1563 [==============================] - 7s 4ms/step - loss: 1.8968 - accuracy: 0.4975 - val_loss: 6.2107 - val_accuracy: 0.1744\n"
          ],
          "name": "stdout"
        }
      ]
    },
    {
      "cell_type": "markdown",
      "metadata": {
        "id": "elD-L99-njV6"
      },
      "source": [
        ""
      ]
    },
    {
      "cell_type": "code",
      "metadata": {
        "id": "mWkNb4GvlhZL",
        "outputId": "9b6f1db8-32e0-4a50-c76b-6d6278db6591",
        "colab": {
          "base_uri": "https://localhost:8080/",
          "height": 301
        }
      },
      "source": [
        "plt.plot(history.history['accuracy'], label= 'accuracy')\n",
        "plt.plot(history.history['val_accuracy'], label= 'val_accuracy')\n",
        "plt.xlabel('Epoch')\n",
        "plt.ylabel('Accuracy')\n",
        "plt.ylim([0,1])\n",
        "plt.legend(loc = 'lower right')\n",
        "\n",
        "test_loss , test_acc = model.evaluate(test_images,test_labels)"
      ],
      "execution_count": 26,
      "outputs": [
        {
          "output_type": "stream",
          "text": [
            "313/313 [==============================] - 1s 2ms/step - loss: 6.2107 - accuracy: 0.1744\n"
          ],
          "name": "stdout"
        },
        {
          "output_type": "display_data",
          "data": {
            "image/png": "[encoded data removed]",
            "text/plain": [
              "<Figure size 432x288 with 1 Axes>"
            ]
          },
          "metadata": {
            "tags": [],
            "needs_background": "light"
          }
        }
      ]
    }
  ]
}