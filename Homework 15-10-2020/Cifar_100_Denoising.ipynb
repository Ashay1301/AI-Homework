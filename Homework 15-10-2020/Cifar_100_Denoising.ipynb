{
  "nbformat": 4,
  "nbformat_minor": 0,
  "metadata": {
    "colab": {
      "name": "Cifar_100_Denoising.ipynb",
      "provenance": [],
      "collapsed_sections": []
    },
    "kernelspec": {
      "name": "python3",
      "display_name": "Python 3"
    },
    "accelerator": "GPU"
  },
  "cells": [
    {
      "cell_type": "code",
      "metadata": {
        "id": "MCKWU0Z6zhHW"
      },
      "source": [
        "import numpy as np\n",
        "import matplotlib.pyplot as plt\n",
        "from tensorflow.keras.layers import Conv2D, Input, Dense, Reshape, Conv2DTranspose,\\\n",
        "     Activation, BatchNormalization, ReLU, Concatenate\n",
        "from tensorflow.keras.models import Model\n",
        "from tensorflow.keras.callbacks import ModelCheckpoint\n",
        "from tensorflow.keras.datasets import cifar100, cifar10"
      ],
      "execution_count": 10,
      "outputs": []
    },
    {
      "cell_type": "code",
      "metadata": {
        "id": "Af3Gr4D2zut_"
      },
      "source": [
        "(train_data_original, _), (test_data_original, _) = cifar100.load_data(label_mode='fine')"
      ],
      "execution_count": 11,
      "outputs": []
    },
    {
      "cell_type": "code",
      "metadata": {
        "id": "zgfNXgemz91E"
      },
      "source": [
        "train_data_original = train_data_original.astype('float32') / 255.\n",
        "test_data_original = test_data_original.astype('float32') / 255."
      ],
      "execution_count": 12,
      "outputs": []
    },
    {
      "cell_type": "markdown",
      "metadata": {
        "id": "IVAd51zw0bIS"
      },
      "source": [
        "Adding Noise to the dataseet"
      ]
    },
    {
      "cell_type": "code",
      "metadata": {
        "id": "M7xOE1K40aky"
      },
      "source": [
        "# Gaussian Noise\n",
        "def add_noise_and_clip_data(data):\n",
        "   noise = np.random.normal(loc=0.0, scale=0.1, size=data.shape)\n",
        "   data = data + noise\n",
        "   data = np.clip(data, 0., 1.)\n",
        "   return data"
      ],
      "execution_count": 13,
      "outputs": []
    },
    {
      "cell_type": "code",
      "metadata": {
        "id": "atP751qe7j30"
      },
      "source": [
        ""
      ],
      "execution_count": null,
      "outputs": []
    },
    {
      "cell_type": "code",
      "metadata": {
        "id": "3PuuGTS40lU2"
      },
      "source": [
        "train_data_noisy = add_noise_and_clip_data(train_data_original)\n",
        "test_data_noisy = add_noise_and_clip_data(test_data_original)"
      ],
      "execution_count": 14,
      "outputs": []
    },
    {
      "cell_type": "code",
      "metadata": {
        "id": "AqM5c2Ro059H",
        "outputId": "55195f76-5460-4ec3-8f22-4243f9f7baf9",
        "colab": {
          "base_uri": "https://localhost:8080/",
          "height": 216
        }
      },
      "source": [
        "idx = 4\n",
        "plt.subplot(1,2,1)\n",
        "plt.imshow(train_data_original[idx])\n",
        "plt.title('Original image')\n",
        "plt.subplot(1,2,2)\n",
        "plt.imshow(train_data_noisy[idx])\n",
        "plt.title('Image with noise')\n",
        "plt.show()"
      ],
      "execution_count": 15,
      "outputs": [
        {
          "output_type": "display_data",
          "data": {
            "image/png": "[encoded data removed]",
            "text/plain": [
              "<Figure size 432x288 with 2 Axes>"
            ]
          },
          "metadata": {
            "tags": [],
            "needs_background": "light"
          }
        }
      ]
    },
    {
      "cell_type": "markdown",
      "metadata": {
        "id": "Niro5sn01wTN"
      },
      "source": [
        "Convoluting the dataset\n"
      ]
    },
    {
      "cell_type": "code",
      "metadata": {
        "id": "moAoUS3p1v9a"
      },
      "source": [
        "def conv_block(x, filters, kernel_size, strides=2):\n",
        "   x = Conv2D(filters=filters,\n",
        "              kernel_size=kernel_size,\n",
        "              strides=strides,\n",
        "              padding='same')(x)\n",
        "   x = BatchNormalization()(x)\n",
        "   x = ReLU()(x)\n",
        "   return x"
      ],
      "execution_count": 32,
      "outputs": []
    },
    {
      "cell_type": "markdown",
      "metadata": {
        "id": "I3u5CXma13YG"
      },
      "source": [
        "Deconvoluting the dataset"
      ]
    },
    {
      "cell_type": "code",
      "metadata": {
        "id": "lbEQ_EsL19Ri"
      },
      "source": [
        "def deconv_block(x, filters, kernel_size):\n",
        "   x = Conv2DTranspose(filters=filters,\n",
        "                       kernel_size=kernel_size,\n",
        "                       strides=2,\n",
        "                       padding='same')(x)\n",
        "   x = BatchNormalization()(x)\n",
        "   x = ReLU()(x)\n",
        "   return x"
      ],
      "execution_count": 33,
      "outputs": []
    },
    {
      "cell_type": "markdown",
      "metadata": {
        "id": "LR6ryFq42JzK"
      },
      "source": [
        "Denoising the dataset"
      ]
    },
    {
      "cell_type": "code",
      "metadata": {
        "id": "-DSxGUXD2AaQ"
      },
      "source": [
        "def denoising_autoencoder():\n",
        "      dae_inputs = Input(shape=(32, 32, 3), name='dae_input')\n",
        "      conv_block1 = conv_block(dae_inputs, 32, 3)\n",
        "      conv_block2 = conv_block(conv_block1, 64, 3)\n",
        "      conv_block3 = conv_block(conv_block2, 128, 3)\n",
        "      conv_block4 = conv_block(conv_block3, 256, 3)\n",
        "      conv_block5 = conv_block(conv_block4, 256, 3, 1)\n",
        "\n",
        "      deconv_block1 = deconv_block(conv_block5, 256, 3)\n",
        "      merge1 = Concatenate()([deconv_block1, conv_block3])\n",
        "      \n",
        "      deconv_block2 = deconv_block(merge1, 128, 3)\n",
        "      merge2 = Concatenate()([deconv_block2, conv_block2])\n",
        "      \n",
        "      deconv_block3 = deconv_block(merge2, 64, 3)\n",
        "      merge3 = Concatenate()([deconv_block3, conv_block1])\n",
        "      \n",
        "      deconv_block4 = deconv_block(merge3, 32, 3)\n",
        "\n",
        "      final_deconv = Conv2DTranspose(filters=3,\n",
        "                                      kernel_size=3,\n",
        "                                      padding='same')(deconv_block4)\n",
        "      dae_outputs = Activation('sigmoid', name='dae_output')(final_deconv)\n",
        "      \n",
        "      return Model(dae_inputs, dae_outputs, name='dae')"
      ],
      "execution_count": 34,
      "outputs": []
    },
    {
      "cell_type": "code",
      "metadata": {
        "id": "tqFrcPGp4wKB",
        "outputId": "45677f9a-3d47-431b-88c7-67c1c3f60c11",
        "colab": {
          "base_uri": "https://localhost:8080/",
          "height": 738
        }
      },
      "source": [
        "\n",
        "dae = denoising_autoencoder()\n",
        "dae.compile(loss='mse', optimizer='adam')\n",
        "  \n",
        "checkpoint = ModelCheckpoint('best_model.h5', verbose=1, save_best_only=True, save_weights_only=True)\n",
        "  \n",
        "dae.fit(train_data_noisy,\n",
        "      train_data_original,\n",
        "      validation_data=(test_data_noisy, test_data_original),\n",
        "      epochs=10,\n",
        "      batch_size=128,\n",
        "      callbacks=[checkpoint])"
      ],
      "execution_count": 37,
      "outputs": [
        {
          "output_type": "stream",
          "text": [
            "Epoch 1/10\n",
            "389/391 [============================>.] - ETA: 0s - loss: 0.0048\n",
            "Epoch 00001: val_loss improved from inf to 0.00477, saving model to best_model.h5\n",
            "391/391 [==============================] - 12s 32ms/step - loss: 0.0048 - val_loss: 0.0048\n",
            "Epoch 2/10\n",
            "391/391 [==============================] - ETA: 0s - loss: 0.0026\n",
            "Epoch 00002: val_loss improved from 0.00477 to 0.00344, saving model to best_model.h5\n",
            "391/391 [==============================] - 12s 31ms/step - loss: 0.0026 - val_loss: 0.0034\n",
            "Epoch 3/10\n",
            "391/391 [==============================] - ETA: 0s - loss: 0.0024\n",
            "Epoch 00003: val_loss improved from 0.00344 to 0.00223, saving model to best_model.h5\n",
            "391/391 [==============================] - 12s 31ms/step - loss: 0.0024 - val_loss: 0.0022\n",
            "Epoch 4/10\n",
            "391/391 [==============================] - ETA: 0s - loss: 0.0023\n",
            "Epoch 00004: val_loss improved from 0.00223 to 0.00220, saving model to best_model.h5\n",
            "391/391 [==============================] - 12s 31ms/step - loss: 0.0023 - val_loss: 0.0022\n",
            "Epoch 5/10\n",
            "389/391 [============================>.] - ETA: 0s - loss: 0.0022\n",
            "Epoch 00005: val_loss did not improve from 0.00220\n",
            "391/391 [==============================] - 12s 31ms/step - loss: 0.0022 - val_loss: 0.0025\n",
            "Epoch 6/10\n",
            "391/391 [==============================] - ETA: 0s - loss: 0.0021\n",
            "Epoch 00006: val_loss improved from 0.00220 to 0.00192, saving model to best_model.h5\n",
            "391/391 [==============================] - 12s 31ms/step - loss: 0.0021 - val_loss: 0.0019\n",
            "Epoch 7/10\n",
            "389/391 [============================>.] - ETA: 0s - loss: 0.0020\n",
            "Epoch 00007: val_loss did not improve from 0.00192\n",
            "391/391 [==============================] - 12s 31ms/step - loss: 0.0020 - val_loss: 0.0024\n",
            "Epoch 8/10\n",
            "391/391 [==============================] - ETA: 0s - loss: 0.0020\n",
            "Epoch 00008: val_loss improved from 0.00192 to 0.00189, saving model to best_model.h5\n",
            "391/391 [==============================] - 12s 31ms/step - loss: 0.0020 - val_loss: 0.0019\n",
            "Epoch 9/10\n",
            "389/391 [============================>.] - ETA: 0s - loss: 0.0021\n",
            "Epoch 00009: val_loss improved from 0.00189 to 0.00188, saving model to best_model.h5\n",
            "391/391 [==============================] - 12s 31ms/step - loss: 0.0021 - val_loss: 0.0019\n",
            "Epoch 10/10\n",
            "389/391 [============================>.] - ETA: 0s - loss: 0.0020\n",
            "Epoch 00010: val_loss improved from 0.00188 to 0.00184, saving model to best_model.h5\n",
            "391/391 [==============================] - 12s 31ms/step - loss: 0.0020 - val_loss: 0.0018\n"
          ],
          "name": "stdout"
        },
        {
          "output_type": "execute_result",
          "data": {
            "text/plain": [
              "<tensorflow.python.keras.callbacks.History at 0x7f2bdc5b7ef0>"
            ]
          },
          "metadata": {
            "tags": []
          },
          "execution_count": 37
        }
      ]
    },
    {
      "cell_type": "code",
      "metadata": {
        "id": "LCJ_Tqcj6JeR",
        "outputId": "9214c386-713c-4020-bf3b-3750f4ee7a0f",
        "colab": {
          "base_uri": "https://localhost:8080/",
          "height": 162
        }
      },
      "source": [
        "#dae.load_weights('best_model.h5')\n",
        "test_data_denoised = dae.predict(test_data_noisy)\n",
        "idx = 4\n",
        "plt.subplot(1,3,1)\n",
        "plt.imshow(test_data_original[idx])\n",
        "plt.title('original')\n",
        "plt.subplot(1,3,2)\n",
        "plt.imshow(test_data_noisy[idx])\n",
        "plt.title('noisy')\n",
        "plt.subplot(1,3,3)\n",
        "plt.imshow(test_data_denoised[idx])\n",
        "plt.title('denoised')\n",
        "plt.show()"
      ],
      "execution_count": 42,
      "outputs": [
        {
          "output_type": "display_data",
          "data": {
            "image/png": "[encoded data removed]",
            "text/plain": [
              "<Figure size 432x288 with 3 Axes>"
            ]
          },
          "metadata": {
            "tags": [],
            "needs_background": "light"
          }
        }
      ]
    }
  ]
}