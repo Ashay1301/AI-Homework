{
  "nbformat": 4,
  "nbformat_minor": 0,
  "metadata": {
    "colab": {
      "name": "Cifar_10_Denoising.ipynb",
      "provenance": [],
      "collapsed_sections": []
    },
    "kernelspec": {
      "name": "python3",
      "display_name": "Python 3"
    },
    "accelerator": "GPU"
  },
  "cells": [
    {
      "cell_type": "code",
      "metadata": {
        "id": "wbxC3r9n8BRB"
      },
      "source": [
        "import numpy as np\n",
        "import matplotlib.pyplot as plt\n",
        "from tensorflow.keras.layers import Conv2D, Input, Dense, Reshape, Conv2DTranspose,\\\n",
        "     Activation, BatchNormalization, ReLU, Concatenate\n",
        "from tensorflow.keras.models import Model\n",
        "from tensorflow.keras.callbacks import ModelCheckpoint\n",
        "from tensorflow.keras.datasets import cifar100, cifar10"
      ],
      "execution_count": 33,
      "outputs": []
    },
    {
      "cell_type": "code",
      "metadata": {
        "id": "4pkSHjAV8Iwg"
      },
      "source": [
        "(train_data_original, _), (test_data_original, _) = cifar10.load_data()"
      ],
      "execution_count": 34,
      "outputs": []
    },
    {
      "cell_type": "code",
      "metadata": {
        "id": "NfXpMatU8McK"
      },
      "source": [
        "train_data_original = train_data_original.astype('float32') / 255.\n",
        "test_data_original = test_data_original.astype('float32') / 255.\n"
      ],
      "execution_count": 35,
      "outputs": []
    },
    {
      "cell_type": "markdown",
      "metadata": {
        "id": "WzL8Zahj8QC2"
      },
      "source": [
        "Adding Noise"
      ]
    },
    {
      "cell_type": "code",
      "metadata": {
        "id": "mvCUVKAh8TrR"
      },
      "source": [
        "# Salt and Pepper Noise\n",
        "def salt_pepper_noise(data):\n",
        "    data1 = data.copy()\n",
        "    count = 0\n",
        "    for image in data1:\n",
        "      row,col,ch = image.shape\n",
        "      s_vs_p = 0.5\n",
        "      amount = 0.004\n",
        "      out = np.copy(image)\n",
        "      # Salt mode\n",
        "      num_salt = np.ceil(amount * image.size * s_vs_p)\n",
        "      coords = [np.random.randint(0, i - 1, int(num_salt))\n",
        "              for i in image.shape]\n",
        "      out[coords] = 1\n",
        "\n",
        "      # Pepper mode\n",
        "      num_pepper = np.ceil(amount* image.size * (1. - s_vs_p))\n",
        "      coords = [np.random.randint(0, i - 1, int(num_pepper))\n",
        "              for i in image.shape]\n",
        "      out[coords] = 0\n",
        "      data1[count] = out\n",
        "      count += 1\n",
        "    return data1"
      ],
      "execution_count": 36,
      "outputs": []
    },
    {
      "cell_type": "code",
      "metadata": {
        "id": "Q4kvCU0Q86ch",
        "outputId": "fc0219d1-38a2-4b0c-f53e-6a0eb53b4b11",
        "colab": {
          "base_uri": "https://localhost:8080/",
          "height": 90
        }
      },
      "source": [
        "train_data_noisy = salt_pepper_noise(train_data_original)\n",
        "test_data_noisy = salt_pepper_noise(test_data_original)"
      ],
      "execution_count": 37,
      "outputs": [
        {
          "output_type": "stream",
          "text": [
            "/usr/local/lib/python3.6/dist-packages/ipykernel_launcher.py:14: FutureWarning: Using a non-tuple sequence for multidimensional indexing is deprecated; use `arr[tuple(seq)]` instead of `arr[seq]`. In the future this will be interpreted as an array index, `arr[np.array(seq)]`, which will result either in an error or a different result.\n",
            "  \n",
            "/usr/local/lib/python3.6/dist-packages/ipykernel_launcher.py:20: FutureWarning: Using a non-tuple sequence for multidimensional indexing is deprecated; use `arr[tuple(seq)]` instead of `arr[seq]`. In the future this will be interpreted as an array index, `arr[np.array(seq)]`, which will result either in an error or a different result.\n"
          ],
          "name": "stderr"
        }
      ]
    },
    {
      "cell_type": "code",
      "metadata": {
        "id": "ZmccTFEp899G",
        "outputId": "8319ce50-6b3f-463f-a3f0-8f09fc7330ca",
        "colab": {
          "base_uri": "https://localhost:8080/",
          "height": 216
        }
      },
      "source": [
        "idx = 8\n",
        "plt.subplot(1,2,1)\n",
        "plt.imshow(train_data_original[idx])\n",
        "plt.title('Original image')\n",
        "plt.subplot(1,2,2)\n",
        "plt.imshow(train_data_noisy[idx])\n",
        "plt.title('Image with noise')\n",
        "plt.show()"
      ],
      "execution_count": 42,
      "outputs": [
        {
          "output_type": "display_data",
          "data": {
            "image/png": "[encoded data removed]",
            "text/plain": [
              "<Figure size 432x288 with 2 Axes>"
            ]
          },
          "metadata": {
            "tags": [],
            "needs_background": "light"
          }
        }
      ]
    },
    {
      "cell_type": "code",
      "metadata": {
        "id": "Z7wS5qPCQfdc"
      },
      "source": [
        "def conv_block(x, filters, kernel_size, strides=2):\n",
        "   x = Conv2D(filters=filters,\n",
        "              kernel_size=kernel_size,\n",
        "              strides=strides,\n",
        "              padding='same')(x)\n",
        "   x = BatchNormalization()(x)\n",
        "   x = ReLU()(x)\n",
        "   return x"
      ],
      "execution_count": 43,
      "outputs": []
    },
    {
      "cell_type": "code",
      "metadata": {
        "id": "FFTBZjX4RLDC"
      },
      "source": [
        "def deconv_block(x, filters, kernel_size):\n",
        "   x = Conv2DTranspose(filters=filters,\n",
        "                       kernel_size=kernel_size,\n",
        "                       strides=2,\n",
        "                       padding='same')(x)\n",
        "   x = BatchNormalization()(x)\n",
        "   x = ReLU()(x)\n",
        "   return x"
      ],
      "execution_count": 47,
      "outputs": []
    },
    {
      "cell_type": "code",
      "metadata": {
        "id": "UP2G1T9YRQzo"
      },
      "source": [
        "def denoising_autoencoder():\n",
        "      dae_inputs = Input(shape=(32, 32, 3), name='dae_input')\n",
        "      conv_block1 = conv_block(dae_inputs, 32, 3)\n",
        "      conv_block2 = conv_block(conv_block1, 64, 3)\n",
        "      conv_block3 = conv_block(conv_block2, 128, 3)\n",
        "      conv_block4 = conv_block(conv_block3, 256, 3)\n",
        "      conv_block5 = conv_block(conv_block4, 256, 3, 1)\n",
        "\n",
        "      deconv_block1 = deconv_block(conv_block5, 256, 3)\n",
        "      merge1 = Concatenate()([deconv_block1, conv_block3])\n",
        "      \n",
        "      deconv_block2 = deconv_block(merge1, 128, 3)\n",
        "      merge2 = Concatenate()([deconv_block2, conv_block2])\n",
        "      \n",
        "      deconv_block3 = deconv_block(merge2, 64, 3)\n",
        "      merge3 = Concatenate()([deconv_block3, conv_block1])\n",
        "      \n",
        "      deconv_block4 = deconv_block(merge3, 32, 3)\n",
        "\n",
        "      final_deconv = Conv2DTranspose(filters=3,\n",
        "                                      kernel_size=3,\n",
        "                                      padding='same')(deconv_block4)\n",
        "      dae_outputs = Activation('sigmoid', name='dae_output')(final_deconv)\n",
        "      \n",
        "      return Model(dae_inputs, dae_outputs, name='dae')"
      ],
      "execution_count": 46,
      "outputs": []
    },
    {
      "cell_type": "code",
      "metadata": {
        "id": "3cfuR-eHRVBW",
        "outputId": "f8951127-9085-4953-bb2f-5a8b796d4def",
        "colab": {
          "base_uri": "https://localhost:8080/",
          "height": 738
        }
      },
      "source": [
        "dae = denoising_autoencoder()\n",
        "dae.compile(loss='binary_crossentropy', optimizer='adam')\n",
        "  \n",
        "checkpoint = ModelCheckpoint('best_model.h5', verbose=1, save_best_only=True, save_weights_only=True)\n",
        "  \n",
        "dae.fit(train_data_noisy,\n",
        "      train_data_original,\n",
        "      validation_data=(test_data_noisy, test_data_original),\n",
        "      epochs=10,\n",
        "      batch_size=128,\n",
        "      callbacks=[checkpoint])"
      ],
      "execution_count": 51,
      "outputs": [
        {
          "output_type": "stream",
          "text": [
            "Epoch 1/10\n",
            "391/391 [==============================] - ETA: 0s - loss: 0.5553\n",
            "Epoch 00001: val_loss improved from inf to 0.57284, saving model to best_model.h5\n",
            "391/391 [==============================] - 9s 24ms/step - loss: 0.5553 - val_loss: 0.5728\n",
            "Epoch 2/10\n",
            "391/391 [==============================] - ETA: 0s - loss: 0.5501\n",
            "Epoch 00002: val_loss improved from 0.57284 to 0.55215, saving model to best_model.h5\n",
            "391/391 [==============================] - 9s 23ms/step - loss: 0.5501 - val_loss: 0.5522\n",
            "Epoch 3/10\n",
            "391/391 [==============================] - ETA: 0s - loss: 0.5495\n",
            "Epoch 00003: val_loss improved from 0.55215 to 0.55111, saving model to best_model.h5\n",
            "391/391 [==============================] - 9s 24ms/step - loss: 0.5495 - val_loss: 0.5511\n",
            "Epoch 4/10\n",
            "390/391 [============================>.] - ETA: 0s - loss: 0.5491\n",
            "Epoch 00004: val_loss improved from 0.55111 to 0.55086, saving model to best_model.h5\n",
            "391/391 [==============================] - 9s 24ms/step - loss: 0.5491 - val_loss: 0.5509\n",
            "Epoch 5/10\n",
            "391/391 [==============================] - ETA: 0s - loss: 0.5490\n",
            "Epoch 00005: val_loss improved from 0.55086 to 0.55023, saving model to best_model.h5\n",
            "391/391 [==============================] - 9s 24ms/step - loss: 0.5490 - val_loss: 0.5502\n",
            "Epoch 6/10\n",
            "391/391 [==============================] - ETA: 0s - loss: 0.5488\n",
            "Epoch 00006: val_loss improved from 0.55023 to 0.54919, saving model to best_model.h5\n",
            "391/391 [==============================] - 9s 23ms/step - loss: 0.5488 - val_loss: 0.5492\n",
            "Epoch 7/10\n",
            "391/391 [==============================] - ETA: 0s - loss: 0.5487\n",
            "Epoch 00007: val_loss did not improve from 0.54919\n",
            "391/391 [==============================] - 9s 23ms/step - loss: 0.5487 - val_loss: 0.5495\n",
            "Epoch 8/10\n",
            "391/391 [==============================] - ETA: 0s - loss: 0.5487\n",
            "Epoch 00008: val_loss did not improve from 0.54919\n",
            "391/391 [==============================] - 9s 23ms/step - loss: 0.5487 - val_loss: 0.5494\n",
            "Epoch 9/10\n",
            "391/391 [==============================] - ETA: 0s - loss: 0.5486\n",
            "Epoch 00009: val_loss did not improve from 0.54919\n",
            "391/391 [==============================] - 9s 23ms/step - loss: 0.5486 - val_loss: 0.5495\n",
            "Epoch 10/10\n",
            "391/391 [==============================] - ETA: 0s - loss: 0.5485\n",
            "Epoch 00010: val_loss did not improve from 0.54919\n",
            "391/391 [==============================] - 9s 23ms/step - loss: 0.5485 - val_loss: 0.5514\n"
          ],
          "name": "stdout"
        },
        {
          "output_type": "execute_result",
          "data": {
            "text/plain": [
              "<tensorflow.python.keras.callbacks.History at 0x7fc56014ee10>"
            ]
          },
          "metadata": {
            "tags": []
          },
          "execution_count": 51
        }
      ]
    },
    {
      "cell_type": "code",
      "metadata": {
        "id": "9uB_-PMtRbPg",
        "outputId": "77bed30a-b074-4bc1-d043-ecf790db6443",
        "colab": {
          "base_uri": "https://localhost:8080/",
          "height": 162
        }
      },
      "source": [
        "dae.load_weights('best_model.h5')\n",
        "test_data_denoised = dae.predict(test_data_noisy)\n",
        "idx = 7\n",
        "plt.subplot(1,3,1)\n",
        "plt.imshow(test_data_original[idx])\n",
        "plt.title('original')\n",
        "plt.subplot(1,3,2)\n",
        "plt.imshow(test_data_noisy[idx])\n",
        "plt.title('noisy')\n",
        "plt.subplot(1,3,3)\n",
        "plt.imshow(test_data_denoised[idx])\n",
        "plt.title('denoised')\n",
        "plt.show()"
      ],
      "execution_count": 53,
      "outputs": [
        {
          "output_type": "display_data",
          "data": {
            "image/png": "[encoded data removed]",
            "text/plain": [
              "<Figure size 432x288 with 3 Axes>"
            ]
          },
          "metadata": {
            "tags": [],
            "needs_background": "light"
          }
        }
      ]
    }
  ]
}